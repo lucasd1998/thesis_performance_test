{
 "cells": [
  {
   "cell_type": "markdown",
   "id": "fef23613",
   "metadata": {},
   "source": [
    "# Script Purpose\n",
    "The following script generates a CSV file that contains random combinations of articles (Article) and machine names (MachineName) to an order number (OrderNumber) and serial number (SerialNumber). This CSV file is created to ensure that different use cases for SELECT and UPDATE operations in Azure Cosmos DB and Azure SQL Database can be performed under identical conditions. This also ensures that the order of the data records is identical between the Azure SQL Database and Azure Cosmos DB databases.\n",
    "\n",
    "To ensure that both databases have the same number and type of data records, this script generates a total of 100.000 entries consisting of three different bicycle types (e-bike, road bike, mountain bike) and three different inspection machines (InspectionMachine1, InspectionMachine2, InspectionMachine3) for one order number. Each line in the CSV file represents a data record with an order number, a bike type and a machine name. Finally, the data is saved in a CSV file with the name sequence_of_inserting_data.csv.\n",
    "\n",
    "To run fair and consistent experiments, it is crucial that both Azure Cosmos DB and Azure SQL Database contain the same amount of item records and machine names and that the order of the records is identical in both databases. This ensures that the SELECT and UPDATE queries can be performed on both databases under the same conditions."
   ]
  },
  {
   "cell_type": "code",
   "execution_count": null,
   "id": "5e5c3b93",
   "metadata": {},
   "outputs": [],
   "source": [
    "import csv\n",
    "import random\n",
    "\n",
    "# Define list of articles\n",
    "article_names = ['EBike', 'Roadbike', 'Mountainbike']\n",
    "machine_names = ['InspectionMachine1', 'InspectionMachine2', 'InspectionMachine3']\n",
    "\n",
    "# Name of CSV file\n",
    "csv_file = 'sequence_of_inserting_data.csv'\n",
    "\n",
    "# Function for generating random data and writing to the CSV\n",
    "def generate_sequence_data():\n",
    "    with open(csv_file, mode='w', newline='') as file:\n",
    "        writer = csv.writer(file)\n",
    "        \n",
    "        # Write the header\n",
    "        writer.writerow(['OrderNumber', 'SerialNumber', 'ArticleName', 'MachineName'])\n",
    "        \n",
    "        # Initialize variables\n",
    "        max_orders = 20000\n",
    "        serial_number = 1\n",
    "        \n",
    "        for order_number in range(1, max_orders + 1):\n",
    "            formatted_order_number = f'{order_number:07d}'\n",
    "            \n",
    "            # Randomly select article and machine for this order\n",
    "            article_name = random.choice(article_names)\n",
    "            machine_name = random.choice(machine_names)\n",
    "            \n",
    "            for _ in range(5):  # 5 serial numbers per order number\n",
    "                # Generate serial number\n",
    "                formatted_serial_number = f'{serial_number:07d}'\n",
    "                \n",
    "                # Write to CSV\n",
    "                writer.writerow([formatted_order_number, formatted_serial_number, article_name, machine_name])\n",
    "                \n",
    "                serial_number += 1  # Increment serial number\n",
    "    \n",
    "    print('Dataset generated!')"
   ]
  },
  {
   "cell_type": "code",
   "execution_count": null,
   "id": "be842fec",
   "metadata": {},
   "outputs": [],
   "source": [
    "generate_sequence_data()"
   ]
  }
 ],
 "metadata": {
  "kernelspec": {
   "display_name": "Python 3 (ipykernel)",
   "language": "python",
   "name": "python3"
  },
  "language_info": {
   "codemirror_mode": {
    "name": "ipython",
    "version": 3
   },
   "file_extension": ".py",
   "mimetype": "text/x-python",
   "name": "python",
   "nbconvert_exporter": "python",
   "pygments_lexer": "ipython3",
   "version": "3.11.5"
  }
 },
 "nbformat": 4,
 "nbformat_minor": 5
}
