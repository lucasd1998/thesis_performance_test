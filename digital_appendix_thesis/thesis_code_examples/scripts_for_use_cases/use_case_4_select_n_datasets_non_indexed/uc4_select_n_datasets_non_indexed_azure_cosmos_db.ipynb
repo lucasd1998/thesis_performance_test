{
 "cells": [
  {
   "cell_type": "code",
   "execution_count": null,
   "metadata": {},
   "outputs": [],
   "source": [
    "import csv\n",
    "import os\n",
    "import random\n",
    "import time\n",
    "from datetime import datetime\n",
    "from azure.cosmos import CosmosClient        # pip install azure-cosmos"
   ]
  },
  {
   "cell_type": "markdown",
   "metadata": {},
   "source": [
    "# 1. Connect to Azure Cosmos DB"
   ]
  },
  {
   "cell_type": "code",
   "execution_count": null,
   "metadata": {},
   "outputs": [],
   "source": [
    "client    = CosmosClient('AZURE_COSMOS_DB_ENDPOINT', 'AZURE_COSMOS_DB_ACCOUNT_KEY')\n",
    "database  = client.get_database_client('AZURE_COSMOS_DB_DATABASE_NAME')\n",
    "container = database.get_container_client('AZURE_COSMOS_DB_CONTAINER_NAME')"
   ]
  },
  {
   "cell_type": "markdown",
   "metadata": {},
   "source": [
    "# 2. Retrieve number of affected datasets by the actual query"
   ]
  },
  {
   "cell_type": "code",
   "execution_count": null,
   "metadata": {},
   "outputs": [],
   "source": [
    "sql_query = \"\"\"\n",
    "SELECT VALUE COUNT(1) FROM (\n",
    "    SELECT DISTINCT c.SerialNumber FROM c\n",
    "    WHERE ARRAY_LENGTH(c.InspectionsAndResults) > 0\n",
    "    AND c.MachineName = \"InspectionMachine1\"\n",
    "    AND EXISTS(\n",
    "        SELECT VALUE i FROM i IN c.InspectionsAndResults \n",
    "        WHERE i.InspectionSetpoints[\"MachineSetPointGroupForMountainbike.AnyMachineSetpoint1\"] != null\n",
    "        OR i.InspectionSetpoints[\"MachineSetPointGroupForMountainbike.AnyMachineSetpoint2\"] != null\n",
    "        OR i.InspectionSetpoints[\"MachineSetPointGroupForMountainbike.AnyMachineSetpoint3\"] != null\n",
    "        OR i.InspectionSetpoints[\"MachineSetPointGroupForMountainbike.AnyMachineSetpoint4\"] != null\n",
    "        OR i.InspectionSetpoints[\"MachineSetPointGroupForMountainbike.AnyMachineSetpoint5\"] != null\n",
    "    )\n",
    ") AS NumberOfDistinctSerialNumbers\n",
    "\"\"\"\n",
    "\n",
    "# Save the number of dataset affected by the actual use case operation\n",
    "number_of_processed_datasets = list(container.query_items(query=sql_query, enable_cross_partition_query=True))[0]"
   ]
  },
  {
   "cell_type": "markdown",
   "metadata": {},
   "source": [
    "# 3. Run the operation"
   ]
  },
  {
   "cell_type": "code",
   "execution_count": null,
   "metadata": {},
   "outputs": [],
   "source": [
    "# Define a list to store the operation durations for each dataset that is inserted\n",
    "query_durations = []\n",
    "\n",
    "# Currently available datasets in database (e.g. 10.000)\n",
    "database_record_count = 10000"
   ]
  },
  {
   "cell_type": "code",
   "execution_count": null,
   "metadata": {},
   "outputs": [],
   "source": [
    "# Run this use case 10 times per iteration\n",
    "for _ in range(10):\n",
    "\n",
    "    sql_query = \"\"\"\n",
    "    SELECT * FROM c\n",
    "    WHERE ARRAY_LENGTH(c.InspectionsAndResults) > 0\n",
    "    AND c.MachineName = \"InspectionMachine1\"\n",
    "    AND EXISTS(\n",
    "        SELECT VALUE i FROM i IN c.InspectionsAndResults \n",
    "        WHERE i.InspectionSetpoints[\"MachineSetPointGroupForMountainbike.AnyMachineSetpoint1\"] != null\n",
    "        OR i.InspectionSetpoints[\"MachineSetPointGroupForMountainbike.AnyMachineSetpoint2\"] != null\n",
    "        OR i.InspectionSetpoints[\"MachineSetPointGroupForMountainbike.AnyMachineSetpoint3\"] != null\n",
    "        OR i.InspectionSetpoints[\"MachineSetPointGroupForMountainbike.AnyMachineSetpoint4\"] != null\n",
    "        OR i.InspectionSetpoints[\"MachineSetPointGroupForMountainbike.AnyMachineSetpoint5\"] != null\n",
    "    )\n",
    "    \"\"\"\n",
    "\n",
    "    # Record the current timestamp before running the operation  \n",
    "    query_start_time = time.time()\n",
    "    \n",
    "    # Run CRUD-operation\n",
    "    documents = list(\n",
    "        container.query_items(\n",
    "            query = sql_query, \n",
    "            enable_cross_partition_query = True))\n",
    "    \n",
    "    # Record the current timestamp after running the operation\n",
    "    query_end_time = time.time()\n",
    "\n",
    "    # Calculate the duration time for this operation\n",
    "    query_duration = query_end_time - query_start_time\n",
    "    query_durations.append(query_duration)"
   ]
  },
  {
   "cell_type": "markdown",
   "metadata": {},
   "source": [
    "# 4. Saving the recorded operation times in the CSV result file"
   ]
  },
  {
   "cell_type": "code",
   "execution_count": null,
   "metadata": {},
   "outputs": [],
   "source": [
    "# Calculate the average duration of all duration times of this iteration\n",
    "mean_duration = sum(query_durations) / len(query_durations)\n",
    "\n",
    "# Define the dataset to store\n",
    "dataset_to_store = [[\n",
    "    mean_duration,                # Calculated mean duration of this iteration\n",
    "    number_of_processed_datasets, # Number of processed datasets\n",
    "    database_record_count         # Current number of datasets in the database\n",
    "    ]]\n",
    "        \n",
    "# Store values in csv result file\n",
    "filepath = os.path.join(\"Experiment_Results\", \"select_to_serialnumber.csv\")\n",
    "file_exists = os.path.isfile(filepath)\n",
    "\n",
    "with open(filepath, 'a', newline='') as csvfile:\n",
    "    writer = csv.writer(csvfile)\n",
    "\n",
    "    if not file_exists:\n",
    "        writer.writerow(['DurationTime', 'NumberOfProcessedDatasets', 'NumberOfDatasetsInDatabase'])\n",
    "    writer.writerows(dataset_to_store)"
   ]
  }
 ],
 "metadata": {
  "language_info": {
   "name": "python"
  }
 },
 "nbformat": 4,
 "nbformat_minor": 2
}
